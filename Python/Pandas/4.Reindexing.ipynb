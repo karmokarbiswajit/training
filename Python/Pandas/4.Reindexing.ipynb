{
 "cells": [
  {
   "cell_type": "code",
   "execution_count": 2,
   "metadata": {
    "collapsed": true
   },
   "outputs": [],
   "source": [
    "import numpy as np\n",
    "import pandas as pd\n",
    "from pandas import Series, DataFrame\n",
    "from numpy.random import randn"
   ]
  },
  {
   "cell_type": "markdown",
   "metadata": {},
   "source": [
    "### Reindexing a Serie"
   ]
  },
  {
   "cell_type": "code",
   "execution_count": 3,
   "metadata": {
    "collapsed": false
   },
   "outputs": [
    {
     "data": {
      "text/plain": [
       "A    1\n",
       "B    2\n",
       "C    3\n",
       "D    4\n",
       "dtype: int64"
      ]
     },
     "execution_count": 3,
     "metadata": {},
     "output_type": "execute_result"
    }
   ],
   "source": [
    "ser1 = Series([1,2,3,4], index = [\"A\", \"B\", \"C\", \"D\"])\n",
    "ser1"
   ]
  },
  {
   "cell_type": "code",
   "execution_count": 5,
   "metadata": {
    "collapsed": false
   },
   "outputs": [
    {
     "data": {
      "text/plain": [
       "A     1\n",
       "B     2\n",
       "C     3\n",
       "D     4\n",
       "E   NaN\n",
       "F   NaN\n",
       "dtype: float64"
      ]
     },
     "execution_count": 5,
     "metadata": {},
     "output_type": "execute_result"
    }
   ],
   "source": [
    "# Null values for the index that didn't exist\n",
    "ser2 = ser1.reindex([\"A\", \"B\", \"C\", \"D\", \"E\", \"F\"])\n",
    "ser2"
   ]
  },
  {
   "cell_type": "code",
   "execution_count": 8,
   "metadata": {
    "collapsed": false
   },
   "outputs": [
    {
     "data": {
      "text/plain": [
       "A     1\n",
       "B     2\n",
       "C     3\n",
       "D     4\n",
       "E   NaN\n",
       "F   NaN\n",
       "G     0\n",
       "dtype: float64"
      ]
     },
     "execution_count": 8,
     "metadata": {},
     "output_type": "execute_result"
    }
   ],
   "source": [
    "# Fill with 0 instead of null for the new index\n",
    "ser2.reindex([\"A\", \"B\", \"C\", \"D\", \"E\", \"F\", \"G\"], fill_value = 0)"
   ]
  },
  {
   "cell_type": "code",
   "execution_count": 10,
   "metadata": {
    "collapsed": false
   },
   "outputs": [
    {
     "data": {
      "text/plain": [
       "0        USA\n",
       "5     Mexico\n",
       "10    Canada\n",
       "dtype: object"
      ]
     },
     "execution_count": 10,
     "metadata": {},
     "output_type": "execute_result"
    }
   ],
   "source": [
    "ser3 = Series([\"USA\", \"Mexico\", \"Canada\"], index = [0,5,10])\n",
    "ser3"
   ]
  },
  {
   "cell_type": "code",
   "execution_count": 11,
   "metadata": {
    "collapsed": false
   },
   "outputs": [
    {
     "data": {
      "text/plain": [
       "0        USA\n",
       "1        USA\n",
       "2        USA\n",
       "3        USA\n",
       "4        USA\n",
       "5     Mexico\n",
       "6     Mexico\n",
       "7     Mexico\n",
       "8     Mexico\n",
       "9     Mexico\n",
       "10    Canada\n",
       "11    Canada\n",
       "12    Canada\n",
       "13    Canada\n",
       "14    Canada\n",
       "dtype: object"
      ]
     },
     "execution_count": 11,
     "metadata": {},
     "output_type": "execute_result"
    }
   ],
   "source": [
    "# Forward fill : grab the previous value to fill the missing values\n",
    "ser3.reindex(range(15), method = \"ffill\")"
   ]
  },
  {
   "cell_type": "markdown",
   "metadata": {},
   "source": [
    "### Reindexing a DataFrame"
   ]
  },
  {
   "cell_type": "code",
   "execution_count": 12,
   "metadata": {
    "collapsed": false
   },
   "outputs": [
    {
     "data": {
      "text/html": [
       "<div>\n",
       "<table border=\"1\" class=\"dataframe\">\n",
       "  <thead>\n",
       "    <tr style=\"text-align: right;\">\n",
       "      <th></th>\n",
       "      <th>col1</th>\n",
       "      <th>col2</th>\n",
       "      <th>col3</th>\n",
       "      <th>col4</th>\n",
       "      <th>col5</th>\n",
       "    </tr>\n",
       "  </thead>\n",
       "  <tbody>\n",
       "    <tr>\n",
       "      <th>A</th>\n",
       "      <td>-0.361738</td>\n",
       "      <td>0.045007</td>\n",
       "      <td>-1.116919</td>\n",
       "      <td>-0.278343</td>\n",
       "      <td>0.379118</td>\n",
       "    </tr>\n",
       "    <tr>\n",
       "      <th>B</th>\n",
       "      <td>0.037990</td>\n",
       "      <td>-0.198912</td>\n",
       "      <td>-0.468545</td>\n",
       "      <td>-0.732808</td>\n",
       "      <td>0.259957</td>\n",
       "    </tr>\n",
       "    <tr>\n",
       "      <th>D</th>\n",
       "      <td>-0.788771</td>\n",
       "      <td>0.259642</td>\n",
       "      <td>-1.345932</td>\n",
       "      <td>0.113135</td>\n",
       "      <td>-0.255217</td>\n",
       "    </tr>\n",
       "    <tr>\n",
       "      <th>E</th>\n",
       "      <td>-0.221958</td>\n",
       "      <td>0.351139</td>\n",
       "      <td>0.351524</td>\n",
       "      <td>-0.220467</td>\n",
       "      <td>0.295690</td>\n",
       "    </tr>\n",
       "    <tr>\n",
       "      <th>F</th>\n",
       "      <td>-0.196884</td>\n",
       "      <td>-1.466460</td>\n",
       "      <td>-0.675403</td>\n",
       "      <td>1.704253</td>\n",
       "      <td>-0.178081</td>\n",
       "    </tr>\n",
       "  </tbody>\n",
       "</table>\n",
       "</div>"
      ],
      "text/plain": [
       "       col1      col2      col3      col4      col5\n",
       "A -0.361738  0.045007 -1.116919 -0.278343  0.379118\n",
       "B  0.037990 -0.198912 -0.468545 -0.732808  0.259957\n",
       "D -0.788771  0.259642 -1.345932  0.113135 -0.255217\n",
       "E -0.221958  0.351139  0.351524 -0.220467  0.295690\n",
       "F -0.196884 -1.466460 -0.675403  1.704253 -0.178081"
      ]
     },
     "execution_count": 12,
     "metadata": {},
     "output_type": "execute_result"
    }
   ],
   "source": [
    "dframe = DataFrame(randn(25).reshape((5, 5)), \n",
    "                   index = [\"A\", \"B\", \"D\", \"E\", \"F\"], \n",
    "                   columns = [\"col1\", \"col2\", \"col3\", \"col4\", \"col5\"])\n",
    "\n",
    "dframe"
   ]
  },
  {
   "cell_type": "code",
   "execution_count": 14,
   "metadata": {
    "collapsed": false
   },
   "outputs": [
    {
     "data": {
      "text/html": [
       "<div>\n",
       "<table border=\"1\" class=\"dataframe\">\n",
       "  <thead>\n",
       "    <tr style=\"text-align: right;\">\n",
       "      <th></th>\n",
       "      <th>col1</th>\n",
       "      <th>col2</th>\n",
       "      <th>col3</th>\n",
       "      <th>col4</th>\n",
       "      <th>col5</th>\n",
       "    </tr>\n",
       "  </thead>\n",
       "  <tbody>\n",
       "    <tr>\n",
       "      <th>A</th>\n",
       "      <td>-0.361738</td>\n",
       "      <td>0.045007</td>\n",
       "      <td>-1.116919</td>\n",
       "      <td>-0.278343</td>\n",
       "      <td>0.379118</td>\n",
       "    </tr>\n",
       "    <tr>\n",
       "      <th>B</th>\n",
       "      <td>0.037990</td>\n",
       "      <td>-0.198912</td>\n",
       "      <td>-0.468545</td>\n",
       "      <td>-0.732808</td>\n",
       "      <td>0.259957</td>\n",
       "    </tr>\n",
       "    <tr>\n",
       "      <th>C</th>\n",
       "      <td>NaN</td>\n",
       "      <td>NaN</td>\n",
       "      <td>NaN</td>\n",
       "      <td>NaN</td>\n",
       "      <td>NaN</td>\n",
       "    </tr>\n",
       "    <tr>\n",
       "      <th>D</th>\n",
       "      <td>-0.788771</td>\n",
       "      <td>0.259642</td>\n",
       "      <td>-1.345932</td>\n",
       "      <td>0.113135</td>\n",
       "      <td>-0.255217</td>\n",
       "    </tr>\n",
       "    <tr>\n",
       "      <th>E</th>\n",
       "      <td>-0.221958</td>\n",
       "      <td>0.351139</td>\n",
       "      <td>0.351524</td>\n",
       "      <td>-0.220467</td>\n",
       "      <td>0.295690</td>\n",
       "    </tr>\n",
       "    <tr>\n",
       "      <th>F</th>\n",
       "      <td>-0.196884</td>\n",
       "      <td>-1.466460</td>\n",
       "      <td>-0.675403</td>\n",
       "      <td>1.704253</td>\n",
       "      <td>-0.178081</td>\n",
       "    </tr>\n",
       "  </tbody>\n",
       "</table>\n",
       "</div>"
      ],
      "text/plain": [
       "       col1      col2      col3      col4      col5\n",
       "A -0.361738  0.045007 -1.116919 -0.278343  0.379118\n",
       "B  0.037990 -0.198912 -0.468545 -0.732808  0.259957\n",
       "C       NaN       NaN       NaN       NaN       NaN\n",
       "D -0.788771  0.259642 -1.345932  0.113135 -0.255217\n",
       "E -0.221958  0.351139  0.351524 -0.220467  0.295690\n",
       "F -0.196884 -1.466460 -0.675403  1.704253 -0.178081"
      ]
     },
     "execution_count": 14,
     "metadata": {},
     "output_type": "execute_result"
    }
   ],
   "source": [
    "# Reindexing the rows\n",
    "dframe2 = dframe.reindex([\"A\", \"B\", \"C\", \"D\", \"E\", \"F\"])\n",
    "dframe2"
   ]
  },
  {
   "cell_type": "code",
   "execution_count": 15,
   "metadata": {
    "collapsed": false
   },
   "outputs": [
    {
     "data": {
      "text/html": [
       "<div>\n",
       "<table border=\"1\" class=\"dataframe\">\n",
       "  <thead>\n",
       "    <tr style=\"text-align: right;\">\n",
       "      <th></th>\n",
       "      <th>col1</th>\n",
       "      <th>col2</th>\n",
       "      <th>col3</th>\n",
       "      <th>col4</th>\n",
       "      <th>col5</th>\n",
       "      <th>col6</th>\n",
       "    </tr>\n",
       "  </thead>\n",
       "  <tbody>\n",
       "    <tr>\n",
       "      <th>A</th>\n",
       "      <td>-0.361738</td>\n",
       "      <td>0.045007</td>\n",
       "      <td>-1.116919</td>\n",
       "      <td>-0.278343</td>\n",
       "      <td>0.379118</td>\n",
       "      <td>NaN</td>\n",
       "    </tr>\n",
       "    <tr>\n",
       "      <th>B</th>\n",
       "      <td>0.037990</td>\n",
       "      <td>-0.198912</td>\n",
       "      <td>-0.468545</td>\n",
       "      <td>-0.732808</td>\n",
       "      <td>0.259957</td>\n",
       "      <td>NaN</td>\n",
       "    </tr>\n",
       "    <tr>\n",
       "      <th>C</th>\n",
       "      <td>NaN</td>\n",
       "      <td>NaN</td>\n",
       "      <td>NaN</td>\n",
       "      <td>NaN</td>\n",
       "      <td>NaN</td>\n",
       "      <td>NaN</td>\n",
       "    </tr>\n",
       "    <tr>\n",
       "      <th>D</th>\n",
       "      <td>-0.788771</td>\n",
       "      <td>0.259642</td>\n",
       "      <td>-1.345932</td>\n",
       "      <td>0.113135</td>\n",
       "      <td>-0.255217</td>\n",
       "      <td>NaN</td>\n",
       "    </tr>\n",
       "    <tr>\n",
       "      <th>E</th>\n",
       "      <td>-0.221958</td>\n",
       "      <td>0.351139</td>\n",
       "      <td>0.351524</td>\n",
       "      <td>-0.220467</td>\n",
       "      <td>0.295690</td>\n",
       "      <td>NaN</td>\n",
       "    </tr>\n",
       "    <tr>\n",
       "      <th>F</th>\n",
       "      <td>-0.196884</td>\n",
       "      <td>-1.466460</td>\n",
       "      <td>-0.675403</td>\n",
       "      <td>1.704253</td>\n",
       "      <td>-0.178081</td>\n",
       "      <td>NaN</td>\n",
       "    </tr>\n",
       "  </tbody>\n",
       "</table>\n",
       "</div>"
      ],
      "text/plain": [
       "       col1      col2      col3      col4      col5  col6\n",
       "A -0.361738  0.045007 -1.116919 -0.278343  0.379118   NaN\n",
       "B  0.037990 -0.198912 -0.468545 -0.732808  0.259957   NaN\n",
       "C       NaN       NaN       NaN       NaN       NaN   NaN\n",
       "D -0.788771  0.259642 -1.345932  0.113135 -0.255217   NaN\n",
       "E -0.221958  0.351139  0.351524 -0.220467  0.295690   NaN\n",
       "F -0.196884 -1.466460 -0.675403  1.704253 -0.178081   NaN"
      ]
     },
     "execution_count": 15,
     "metadata": {},
     "output_type": "execute_result"
    }
   ],
   "source": [
    "# reindexing the columns\n",
    "new_columns = [\"col1\", \"col2\", \"col3\", \"col4\", \"col5\", \"col6\"]\n",
    "dframe2.reindex(columns = new_columns)"
   ]
  },
  {
   "cell_type": "code",
   "execution_count": 17,
   "metadata": {
    "collapsed": false
   },
   "outputs": [
    {
     "data": {
      "text/html": [
       "<div>\n",
       "<table border=\"1\" class=\"dataframe\">\n",
       "  <thead>\n",
       "    <tr style=\"text-align: right;\">\n",
       "      <th></th>\n",
       "      <th>col1</th>\n",
       "      <th>col2</th>\n",
       "      <th>col3</th>\n",
       "      <th>col4</th>\n",
       "      <th>col5</th>\n",
       "    </tr>\n",
       "  </thead>\n",
       "  <tbody>\n",
       "    <tr>\n",
       "      <th>A</th>\n",
       "      <td>-0.361738</td>\n",
       "      <td>0.045007</td>\n",
       "      <td>-1.116919</td>\n",
       "      <td>-0.278343</td>\n",
       "      <td>0.379118</td>\n",
       "    </tr>\n",
       "    <tr>\n",
       "      <th>B</th>\n",
       "      <td>0.037990</td>\n",
       "      <td>-0.198912</td>\n",
       "      <td>-0.468545</td>\n",
       "      <td>-0.732808</td>\n",
       "      <td>0.259957</td>\n",
       "    </tr>\n",
       "    <tr>\n",
       "      <th>D</th>\n",
       "      <td>-0.788771</td>\n",
       "      <td>0.259642</td>\n",
       "      <td>-1.345932</td>\n",
       "      <td>0.113135</td>\n",
       "      <td>-0.255217</td>\n",
       "    </tr>\n",
       "    <tr>\n",
       "      <th>E</th>\n",
       "      <td>-0.221958</td>\n",
       "      <td>0.351139</td>\n",
       "      <td>0.351524</td>\n",
       "      <td>-0.220467</td>\n",
       "      <td>0.295690</td>\n",
       "    </tr>\n",
       "    <tr>\n",
       "      <th>F</th>\n",
       "      <td>-0.196884</td>\n",
       "      <td>-1.466460</td>\n",
       "      <td>-0.675403</td>\n",
       "      <td>1.704253</td>\n",
       "      <td>-0.178081</td>\n",
       "    </tr>\n",
       "  </tbody>\n",
       "</table>\n",
       "</div>"
      ],
      "text/plain": [
       "       col1      col2      col3      col4      col5\n",
       "A -0.361738  0.045007 -1.116919 -0.278343  0.379118\n",
       "B  0.037990 -0.198912 -0.468545 -0.732808  0.259957\n",
       "D -0.788771  0.259642 -1.345932  0.113135 -0.255217\n",
       "E -0.221958  0.351139  0.351524 -0.220467  0.295690\n",
       "F -0.196884 -1.466460 -0.675403  1.704253 -0.178081"
      ]
     },
     "execution_count": 17,
     "metadata": {},
     "output_type": "execute_result"
    }
   ],
   "source": [
    "dframe"
   ]
  },
  {
   "cell_type": "code",
   "execution_count": 16,
   "metadata": {
    "collapsed": false
   },
   "outputs": [
    {
     "data": {
      "text/html": [
       "<div>\n",
       "<table border=\"1\" class=\"dataframe\">\n",
       "  <thead>\n",
       "    <tr style=\"text-align: right;\">\n",
       "      <th></th>\n",
       "      <th>col1</th>\n",
       "      <th>col2</th>\n",
       "      <th>col3</th>\n",
       "      <th>col4</th>\n",
       "      <th>col5</th>\n",
       "      <th>col6</th>\n",
       "    </tr>\n",
       "  </thead>\n",
       "  <tbody>\n",
       "    <tr>\n",
       "      <th>A</th>\n",
       "      <td>-0.361738</td>\n",
       "      <td>0.045007</td>\n",
       "      <td>-1.116919</td>\n",
       "      <td>-0.278343</td>\n",
       "      <td>0.379118</td>\n",
       "      <td>NaN</td>\n",
       "    </tr>\n",
       "    <tr>\n",
       "      <th>B</th>\n",
       "      <td>0.037990</td>\n",
       "      <td>-0.198912</td>\n",
       "      <td>-0.468545</td>\n",
       "      <td>-0.732808</td>\n",
       "      <td>0.259957</td>\n",
       "      <td>NaN</td>\n",
       "    </tr>\n",
       "    <tr>\n",
       "      <th>C</th>\n",
       "      <td>NaN</td>\n",
       "      <td>NaN</td>\n",
       "      <td>NaN</td>\n",
       "      <td>NaN</td>\n",
       "      <td>NaN</td>\n",
       "      <td>NaN</td>\n",
       "    </tr>\n",
       "    <tr>\n",
       "      <th>D</th>\n",
       "      <td>-0.788771</td>\n",
       "      <td>0.259642</td>\n",
       "      <td>-1.345932</td>\n",
       "      <td>0.113135</td>\n",
       "      <td>-0.255217</td>\n",
       "      <td>NaN</td>\n",
       "    </tr>\n",
       "    <tr>\n",
       "      <th>E</th>\n",
       "      <td>-0.221958</td>\n",
       "      <td>0.351139</td>\n",
       "      <td>0.351524</td>\n",
       "      <td>-0.220467</td>\n",
       "      <td>0.295690</td>\n",
       "      <td>NaN</td>\n",
       "    </tr>\n",
       "    <tr>\n",
       "      <th>F</th>\n",
       "      <td>-0.196884</td>\n",
       "      <td>-1.466460</td>\n",
       "      <td>-0.675403</td>\n",
       "      <td>1.704253</td>\n",
       "      <td>-0.178081</td>\n",
       "      <td>NaN</td>\n",
       "    </tr>\n",
       "  </tbody>\n",
       "</table>\n",
       "</div>"
      ],
      "text/plain": [
       "       col1      col2      col3      col4      col5  col6\n",
       "A -0.361738  0.045007 -1.116919 -0.278343  0.379118   NaN\n",
       "B  0.037990 -0.198912 -0.468545 -0.732808  0.259957   NaN\n",
       "C       NaN       NaN       NaN       NaN       NaN   NaN\n",
       "D -0.788771  0.259642 -1.345932  0.113135 -0.255217   NaN\n",
       "E -0.221958  0.351139  0.351524 -0.220467  0.295690   NaN\n",
       "F -0.196884 -1.466460 -0.675403  1.704253 -0.178081   NaN"
      ]
     },
     "execution_count": 16,
     "metadata": {},
     "output_type": "execute_result"
    }
   ],
   "source": [
    "# Using .ix to reindex the rows and the columns at the same time\n",
    "dframe.ix[[\"A\", \"B\", \"C\", \"D\", \"E\", \"F\"], new_columns]"
   ]
  },
  {
   "cell_type": "code",
   "execution_count": null,
   "metadata": {
    "collapsed": true
   },
   "outputs": [],
   "source": []
  }
 ],
 "metadata": {
  "kernelspec": {
   "display_name": "Python 2",
   "language": "python",
   "name": "python2"
  },
  "language_info": {
   "codemirror_mode": {
    "name": "ipython",
    "version": 2
   },
   "file_extension": ".py",
   "mimetype": "text/x-python",
   "name": "python",
   "nbconvert_exporter": "python",
   "pygments_lexer": "ipython2",
   "version": "2.7.11"
  }
 },
 "nbformat": 4,
 "nbformat_minor": 0
}
